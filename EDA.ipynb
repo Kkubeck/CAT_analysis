{
 "cells": [
  {
   "cell_type": "code",
   "execution_count": null,
   "id": "6e560821-3a4e-4213-83c5-0c79fe18ec25",
   "metadata": {},
   "outputs": [],
   "source": [
    "import pandas as pd"
   ]
  },
  {
   "cell_type": "code",
   "execution_count": null,
   "id": "5a9e59ec-efe4-4331-b22f-598d618c9744",
   "metadata": {},
   "outputs": [],
   "source": [
    "# Load dataframes\n",
    "current = pd.read_csv('data/Current_Sheet.csv')\n",
    "emissions_limited = pd.read_csv('data/Emissions_Limited_2040.csv')\n",
    "business_as_usual = pd.read_csv('data/Business_as_Usual_2080.csv')\n",
    "bau_plus_1degree = pd.read_csv('data/BAU_plus_1degree_2080.csv')"
   ]
  }
 ],
 "metadata": {
  "kernelspec": {
   "display_name": "Python 3 (ipykernel)",
   "language": "python",
   "name": "python3"
  },
  "language_info": {
   "codemirror_mode": {
    "name": "ipython",
    "version": 3
   },
   "file_extension": ".py",
   "mimetype": "text/x-python",
   "name": "python",
   "nbconvert_exporter": "python",
   "pygments_lexer": "ipython3",
   "version": "3.12.3"
  }
 },
 "nbformat": 4,
 "nbformat_minor": 5
}
